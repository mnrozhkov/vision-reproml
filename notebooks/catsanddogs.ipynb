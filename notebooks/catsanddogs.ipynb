{
 "cells": [
  {
   "cell_type": "markdown",
   "metadata": {},
   "source": [
    "## prepare configs"
   ]
  },
  {
   "cell_type": "code",
   "execution_count": 19,
   "metadata": {},
   "outputs": [],
   "source": [
    "!cd .. && python src/pipelines/prepare_configs.py --config config/pipeline_config.yml"
   ]
  },
  {
   "cell_type": "markdown",
   "metadata": {},
   "source": [
    "## prepare dataset"
   ]
  },
  {
   "cell_type": "code",
   "execution_count": 20,
   "metadata": {},
   "outputs": [
    {
     "name": "stdout",
     "output_type": "stream",
     "text": [
      "unzip archive...\n",
      "\n",
      "\n",
      "create directories...\n",
      "\n",
      "\n",
      "split train images by classes...\n",
      "\n",
      "\n",
      "create validation dataset...\n",
      "\n",
      "\n",
      "create test dataset...\n",
      "\n",
      "\n",
      "create sample dataset...\n"
     ]
    }
   ],
   "source": [
    "!cd .. && python src/pipelines/prepare_dataset.py --config=experiments/prepare_dataset_config.yml"
   ]
  },
  {
   "cell_type": "markdown",
   "metadata": {},
   "source": [
    "## train model"
   ]
  },
  {
   "cell_type": "code",
   "execution_count": 21,
   "metadata": {},
   "outputs": [
    {
     "name": "stdout",
     "output_type": "stream",
     "text": [
      "DEBUG:git.cmd:Popen(['git', 'version'], cwd=/home/vision-reproml, universal_newlines=False, shell=None)\n",
      "DEBUG:git.cmd:Popen(['git', 'version'], cwd=/home/vision-reproml, universal_newlines=False, shell=None)\n",
      "Epoch 0/2\n",
      "----------\n",
      "train Loss: 0.8615 Acc: 0.5000\n",
      "val Loss: 0.7386 Acc: 0.5000\n",
      "New best model found!\n",
      "New record loss: 0.7386482357978821, previous record loss: inf\n",
      "\n",
      "Epoch 1/2\n",
      "----------\n",
      "train Loss: 0.7168 Acc: 0.5000\n",
      "val Loss: 0.6668 Acc: 0.5750\n",
      "New best model found!\n",
      "New record loss: 0.666775643825531, previous record loss: 0.7386482357978821\n",
      "\n",
      "Epoch 2/2\n",
      "----------\n",
      "train Loss: 0.6534 Acc: 0.5450\n",
      "val Loss: 0.6522 Acc: 0.5250\n",
      "New best model found!\n",
      "New record loss: 0.6521909236907959, previous record loss: 0.666775643825531\n",
      "\n",
      "Training complete in 3m 6s\n",
      "Best val Acc: 0.5250 Best val loss: 0.6522\n",
      "INFO:root:data/sample image folder\n"
     ]
    }
   ],
   "source": [
    "!cd .. && python src/pipelines/train_model.py --config=experiments/train_model_config.yml"
   ]
  },
  {
   "cell_type": "markdown",
   "metadata": {},
   "source": [
    "## evaluate model"
   ]
  },
  {
   "cell_type": "code",
   "execution_count": 22,
   "metadata": {},
   "outputs": [
    {
     "name": "stdout",
     "output_type": "stream",
     "text": [
      "100%|█████████████████████████████████████████████| 1/1 [00:11<00:00, 11.25s/it]\n"
     ]
    }
   ],
   "source": [
    "!cd .. && python src/pipelines/evaluate_model.py --config=experiments/evaluate_model_config.yml"
   ]
  },
  {
   "cell_type": "markdown",
   "metadata": {},
   "source": [
    "## open mlflow ui"
   ]
  },
  {
   "cell_type": "markdown",
   "metadata": {},
   "source": [
    "### http://127.0.0.1:1234"
   ]
  },
  {
   "cell_type": "code",
   "execution_count": null,
   "metadata": {},
   "outputs": [],
   "source": []
  }
 ],
 "metadata": {
  "kernelspec": {
   "display_name": "Python 3",
   "language": "python",
   "name": "python3"
  },
  "language_info": {
   "codemirror_mode": {
    "name": "ipython",
    "version": 3
   },
   "file_extension": ".py",
   "mimetype": "text/x-python",
   "name": "python",
   "nbconvert_exporter": "python",
   "pygments_lexer": "ipython3",
   "version": "3.6.8"
  }
 },
 "nbformat": 4,
 "nbformat_minor": 2
}
