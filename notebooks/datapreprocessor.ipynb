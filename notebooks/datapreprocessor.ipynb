{
 "cells": [
  {
   "cell_type": "markdown",
   "metadata": {},
   "source": [
    "### Download dogs-vs-cats.zip from https://www.kaggle.com/c/dogs-vs-cats/data and put it to ../data"
   ]
  },
  {
   "cell_type": "markdown",
   "metadata": {},
   "source": [
    "# Unzip data"
   ]
  },
  {
   "cell_type": "code",
   "execution_count": 28,
   "metadata": {},
   "outputs": [
    {
     "name": "stdout",
     "output_type": "stream",
     "text": [
      "Archive:  ../data/dogs-vs-cats.zip\n",
      "  inflating: ../data/sampleSubmission.csv  \n",
      "  inflating: ../data/train.zip       \n",
      "  inflating: ../data/test1.zip       \n"
     ]
    }
   ],
   "source": [
    "!unzip ../data/dogs-vs-cats.zip -d ../data\n",
    "!unzip -q ../data/train.zip -d ../data\n",
    "!unzip -q ../data/test1.zip -d ../data"
   ]
  },
  {
   "cell_type": "markdown",
   "metadata": {},
   "source": [
    "#  Create classes folders"
   ]
  },
  {
   "cell_type": "code",
   "execution_count": 77,
   "metadata": {},
   "outputs": [
    {
     "name": "stdout",
     "output_type": "stream",
     "text": [
      "Printing data dir\n",
      "['test1', '.gitignore', 'sample', 'train', 'val']\n",
      "Printing train dir\n",
      "['dogs', 'cats']\n"
     ]
    }
   ],
   "source": [
    "import os\n",
    "train_dir = \"../data/train\"\n",
    "train_dogs_dir = '{train_dir}/dogs'.format(train_dir=train_dir)\n",
    "train_cats_dir = '{train_dir}/cats'.format(train_dir=train_dir)\n",
    "\n",
    "!mkdir -p {train_dogs_dir} {train_cats_dir}\n",
    "\n",
    "val_dir = \"../data/val\"\n",
    "\n",
    "val_dogs_dir = '{val_dir}/dogs'.format(val_dir=val_dir)\n",
    "val_cats_dir = '{val_dir}/cats'.format(val_dir=val_dir)\n",
    "\n",
    "!mkdir -p {val_dogs_dir} {val_cats_dir}\n",
    "\n",
    "test_dir = \"../data/test1/\"\n",
    "\n",
    "\n",
    "print(\"Printing data dir\")\n",
    "print(os.listdir(\"../data\"))\n",
    "print(\"Printing train dir\")\n",
    "print(os.listdir(\"../data/train/\")[:5])"
   ]
  },
  {
   "cell_type": "markdown",
   "metadata": {},
   "source": [
    "# Split train images by classes - cats and dogs"
   ]
  },
  {
   "cell_type": "code",
   "execution_count": 38,
   "metadata": {},
   "outputs": [],
   "source": [
    "import shutil\n",
    "import re\n",
    "\n",
    "files = os.listdir(train_dir)\n",
    "\n",
    "# Move all train cat images to cats folder, dog images to dogs folder\n",
    "for f in files:\n",
    "    catSearchObj = re.search(\"cat\", f)\n",
    "    dogSearchObj = re.search(\"dog\", f)\n",
    "    if catSearchObj:\n",
    "        shutil.move('{train_dir}/{f}'.format(train_dir=train_dir, f=f), train_cats_dir)\n",
    "    elif dogSearchObj:\n",
    "        shutil.move('{train_dir}/{f}'.format(train_dir=train_dir, f=f), train_dogs_dir)"
   ]
  },
  {
   "cell_type": "code",
   "execution_count": 48,
   "metadata": {},
   "outputs": [
    {
     "name": "stdout",
     "output_type": "stream",
     "text": [
      "Printing train dir\n",
      "cats\n",
      "dogs\n",
      "Printing train dog dir\n",
      "dog.0.jpg\n",
      "dog.10000.jpg\n",
      "dog.10001.jpg\n",
      "dog.10002.jpg\n",
      "dog.10003.jpg\n",
      "ls: ошибка записи: Обрыв канала\n",
      "Printing train cat dir\n",
      "cat.0.jpg\n",
      "cat.10000.jpg\n",
      "cat.10001.jpg\n",
      "cat.10002.jpg\n",
      "cat.10003.jpg\n",
      "ls: ошибка записи: Обрыв канала\n"
     ]
    }
   ],
   "source": [
    "print(\"Printing train dir\") # shows cats, dogs subfolders only\n",
    "!ls {train_dir} | head -n 5\n",
    "print(\"Printing train dog dir\") # there is now dog images in dogs folder\n",
    "!ls {train_dogs_dir} | head -n 5\n",
    "print(\"Printing train cat dir\") # there is now cat images in cats folder\n",
    "!ls {train_cats_dir} | head -n 5"
   ]
  },
  {
   "cell_type": "markdown",
   "metadata": {},
   "source": [
    "# Create validation dataset - extract each image with number started from '5' from trainset"
   ]
  },
  {
   "cell_type": "code",
   "execution_count": 43,
   "metadata": {},
   "outputs": [],
   "source": [
    "files = os.listdir(train_dogs_dir)\n",
    "\n",
    "for f in files:\n",
    "    validationDogsSearchObj = re.search(\"5\\d\\d\\d\", f)\n",
    "    if validationDogsSearchObj:\n",
    "        shutil.move('{train_dogs_dir}/{f}'.format(train_dogs_dir=train_dogs_dir, f=f), val_dogs_dir)"
   ]
  },
  {
   "cell_type": "code",
   "execution_count": 53,
   "metadata": {},
   "outputs": [
    {
     "name": "stdout",
     "output_type": "stream",
     "text": [
      "Printing val dog dir\n",
      "dog.5000.jpg\n",
      "dog.5001.jpg\n",
      "dog.5002.jpg\n",
      "dog.5003.jpg\n",
      "dog.5004.jpg\n"
     ]
    }
   ],
   "source": [
    "print(\"Printing val dog dir\")\n",
    "!ls {val_dogs_dir} | head -n 5"
   ]
  },
  {
   "cell_type": "code",
   "execution_count": 41,
   "metadata": {},
   "outputs": [],
   "source": [
    "files = os.listdir(train_cats_dir)\n",
    "\n",
    "for f in files:\n",
    "    validationCatsSearchObj = re.search(\"5\\d\\d\\d\", f)\n",
    "    if validationCatsSearchObj:\n",
    "        shutil.move('{train_cats_dir}/{f}'.format(train_cats_dir=train_cats_dir, f=f), val_cats_dir)"
   ]
  },
  {
   "cell_type": "code",
   "execution_count": 45,
   "metadata": {},
   "outputs": [
    {
     "name": "stdout",
     "output_type": "stream",
     "text": [
      "Printing val cat dir\n",
      "cat.5000.jpg\n",
      "cat.5001.jpg\n",
      "cat.5002.jpg\n",
      "cat.5003.jpg\n",
      "cat.5004.jpg\n"
     ]
    }
   ],
   "source": [
    "print(\"Printing val cat dir\")\n",
    "!ls {val_cats_dir} | head -n 5"
   ]
  },
  {
   "cell_type": "code",
   "execution_count": null,
   "metadata": {},
   "outputs": [],
   "source": []
  },
  {
   "cell_type": "markdown",
   "metadata": {},
   "source": [
    "# Create sample dataset"
   ]
  },
  {
   "cell_type": "code",
   "execution_count": 75,
   "metadata": {},
   "outputs": [
    {
     "data": {
      "text/plain": [
       "'../data/sample/train/dogs'"
      ]
     },
     "execution_count": 75,
     "metadata": {},
     "output_type": "execute_result"
    }
   ],
   "source": [
    "sample_dir = '../data/sample'\n",
    "sample_dir_train = '{}/train'.format(sample_dir)\n",
    "sample_dir_train_cats = '{}/cats'.format(sample_dir_train)\n",
    "sample_dir_train_dogs = '{}/dogs'.format(sample_dir_train)\n",
    "\n",
    "sample_dir_val = '{}/val'.format(sample_dir)\n",
    "sample_dir_val_cats = '{}/cats'.format(sample_dir_val)\n",
    "sample_dir_val_dogs = '{}/dogs'.format(sample_dir_val)\n",
    "\n",
    "sample_dir_test = '{}/test'.format(sample_dir)"
   ]
  },
  {
   "cell_type": "code",
   "execution_count": 76,
   "metadata": {},
   "outputs": [],
   "source": [
    "!mkdir -p {sample_dir} {sample_dir_train_cats} {sample_dir_train_dogs} {sample_dir_val_cats} {sample_dir_val_dogs} {sample_dir_test}"
   ]
  },
  {
   "cell_type": "code",
   "execution_count": 79,
   "metadata": {},
   "outputs": [],
   "source": [
    "sample_train_images = 100\n",
    "sample_val_images = 20\n",
    "sample_test_images = 20"
   ]
  },
  {
   "cell_type": "code",
   "execution_count": 69,
   "metadata": {},
   "outputs": [],
   "source": [
    "def cp_to_sample(src_dir, dst_dir, n):\n",
    "    files = os.listdir(src_dir)[:n]\n",
    "    for f in files:\n",
    "        shutil.copy(os.path.join(src_dir, f), os.path.join(dst_dir, f))"
   ]
  },
  {
   "cell_type": "code",
   "execution_count": 80,
   "metadata": {},
   "outputs": [],
   "source": [
    "cp_to_sample(train_cats_dir, sample_dir_train_cats, sample_train_images)\n",
    "cp_to_sample(train_dogs_dir, sample_dir_train_dogs, sample_train_images)\n",
    "\n",
    "cp_to_sample(val_cats_dir, sample_dir_val_cats, sample_val_images)\n",
    "cp_to_sample(val_dogs_dir, sample_dir_val_dogs, sample_val_images)\n",
    "\n",
    "cp_to_sample(test_dir, sample_dir_test, sample_test_images)\n"
   ]
  },
  {
   "cell_type": "code",
   "execution_count": null,
   "metadata": {},
   "outputs": [],
   "source": []
  }
 ],
 "metadata": {
  "kernelspec": {
   "display_name": "Python 3",
   "language": "python",
   "name": "python3"
  },
  "language_info": {
   "codemirror_mode": {
    "name": "ipython",
    "version": 3
   },
   "file_extension": ".py",
   "mimetype": "text/x-python",
   "name": "python",
   "nbconvert_exporter": "python",
   "pygments_lexer": "ipython3",
   "version": "3.6.8"
  }
 },
 "nbformat": 4,
 "nbformat_minor": 2
}
